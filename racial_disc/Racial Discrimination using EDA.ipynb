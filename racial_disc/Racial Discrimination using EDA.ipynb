{
 "cells": [
  {
   "cell_type": "markdown",
   "metadata": {},
   "source": [
    "# Examining Racial Discrimination in the US Job Market\n",
    "\n",
    "### Background\n",
    "Racial discrimination continues to be pervasive in cultures throughout the world. Researchers examined the level of racial discrimination in the United States labor market by randomly assigning identical résumés to black-sounding or white-sounding names and observing the impact on requests for interviews from employers.\n",
    "\n",
    "### Data\n",
    "In the dataset provided, each row represents a resume. The 'race' column has two values, 'b' and 'w', indicating black-sounding and white-sounding. The column 'call' has two values, 1 and 0, indicating whether the resume received a call from employers or not.\n",
    "\n",
    "Note that the 'b' and 'w' values in race are assigned randomly to the resumes when presented to the employer."
   ]
  },
  {
   "cell_type": "markdown",
   "metadata": {},
   "source": [
    "<div class=\"span5 alert alert-info\">\n",
    "### Exercises\n",
    "You will perform a statistical analysis to establish whether race has a significant impact on the rate of callbacks for resumes.\n",
    "\n",
    "Answer the following questions **in this notebook below and submit to your Github account**. \n",
    "\n",
    "   1. What test is appropriate for this problem? Does CLT apply?\n",
    "   2. What are the null and alternate hypotheses?\n",
    "   3. Compute margin of error, confidence interval, and p-value.\n",
    "   4. Write a story describing the statistical significance in the context or the original problem.\n",
    "   5. Does your analysis mean that race/name is the most important factor in callback success? Why or why not? If not, how would you amend your analysis?\n",
    "\n",
    "You can include written notes in notebook cells using Markdown: \n",
    "   - In the control panel at the top, choose Cell > Cell Type > Markdown\n",
    "   - Markdown syntax: http://nestacms.com/docs/creating-content/markdown-cheat-sheet\n",
    "\n",
    "\n",
    "#### Resources\n",
    "+ Experiment information and data source: http://www.povertyactionlab.org/evaluation/discrimination-job-market-united-states\n",
    "+ Scipy statistical methods: http://docs.scipy.org/doc/scipy/reference/stats.html \n",
    "+ Markdown syntax: http://nestacms.com/docs/creating-content/markdown-cheat-sheet\n",
    "</div>\n",
    "****"
   ]
  },
  {
   "cell_type": "code",
   "execution_count": 1,
   "metadata": {
    "collapsed": true
   },
   "outputs": [],
   "source": [
    "import pandas as pd\n",
    "import numpy as np\n",
    "from scipy import stats"
   ]
  },
  {
   "cell_type": "code",
   "execution_count": 2,
   "metadata": {
    "collapsed": true
   },
   "outputs": [],
   "source": [
    "data = pd.io.stata.read_stata('/Users/ruhama.ahale/Documents/Springboard_Coursework/racial_disc/us_job_market_discrimination.dta')"
   ]
  },
  {
   "cell_type": "code",
   "execution_count": 3,
   "metadata": {
    "collapsed": false
   },
   "outputs": [
    {
     "data": {
      "text/plain": [
       "157.0"
      ]
     },
     "execution_count": 3,
     "metadata": {},
     "output_type": "execute_result"
    }
   ],
   "source": [
    "# number of callbacks for black-sounding names\n",
    "sum(data[data.race=='b'].call)"
   ]
  },
  {
   "cell_type": "code",
   "execution_count": 5,
   "metadata": {
    "collapsed": false
   },
   "outputs": [
    {
     "data": {
      "text/html": [
       "<div>\n",
       "<style>\n",
       "    .dataframe thead tr:only-child th {\n",
       "        text-align: right;\n",
       "    }\n",
       "\n",
       "    .dataframe thead th {\n",
       "        text-align: left;\n",
       "    }\n",
       "\n",
       "    .dataframe tbody tr th {\n",
       "        vertical-align: top;\n",
       "    }\n",
       "</style>\n",
       "<table border=\"1\" class=\"dataframe\">\n",
       "  <thead>\n",
       "    <tr style=\"text-align: right;\">\n",
       "      <th></th>\n",
       "      <th>id</th>\n",
       "      <th>ad</th>\n",
       "      <th>education</th>\n",
       "      <th>ofjobs</th>\n",
       "      <th>yearsexp</th>\n",
       "      <th>honors</th>\n",
       "      <th>volunteer</th>\n",
       "      <th>military</th>\n",
       "      <th>empholes</th>\n",
       "      <th>occupspecific</th>\n",
       "      <th>...</th>\n",
       "      <th>compreq</th>\n",
       "      <th>orgreq</th>\n",
       "      <th>manuf</th>\n",
       "      <th>transcom</th>\n",
       "      <th>bankreal</th>\n",
       "      <th>trade</th>\n",
       "      <th>busservice</th>\n",
       "      <th>othservice</th>\n",
       "      <th>missind</th>\n",
       "      <th>ownership</th>\n",
       "    </tr>\n",
       "  </thead>\n",
       "  <tbody>\n",
       "    <tr>\n",
       "      <th>0</th>\n",
       "      <td>b</td>\n",
       "      <td>1</td>\n",
       "      <td>4</td>\n",
       "      <td>2</td>\n",
       "      <td>6</td>\n",
       "      <td>0</td>\n",
       "      <td>0</td>\n",
       "      <td>0</td>\n",
       "      <td>1</td>\n",
       "      <td>17</td>\n",
       "      <td>...</td>\n",
       "      <td>1.0</td>\n",
       "      <td>0.0</td>\n",
       "      <td>1.0</td>\n",
       "      <td>0.0</td>\n",
       "      <td>0.0</td>\n",
       "      <td>0.0</td>\n",
       "      <td>0.0</td>\n",
       "      <td>0.0</td>\n",
       "      <td>0.0</td>\n",
       "      <td></td>\n",
       "    </tr>\n",
       "    <tr>\n",
       "      <th>1</th>\n",
       "      <td>b</td>\n",
       "      <td>1</td>\n",
       "      <td>3</td>\n",
       "      <td>3</td>\n",
       "      <td>6</td>\n",
       "      <td>0</td>\n",
       "      <td>1</td>\n",
       "      <td>1</td>\n",
       "      <td>0</td>\n",
       "      <td>316</td>\n",
       "      <td>...</td>\n",
       "      <td>1.0</td>\n",
       "      <td>0.0</td>\n",
       "      <td>1.0</td>\n",
       "      <td>0.0</td>\n",
       "      <td>0.0</td>\n",
       "      <td>0.0</td>\n",
       "      <td>0.0</td>\n",
       "      <td>0.0</td>\n",
       "      <td>0.0</td>\n",
       "      <td></td>\n",
       "    </tr>\n",
       "    <tr>\n",
       "      <th>2</th>\n",
       "      <td>b</td>\n",
       "      <td>1</td>\n",
       "      <td>4</td>\n",
       "      <td>1</td>\n",
       "      <td>6</td>\n",
       "      <td>0</td>\n",
       "      <td>0</td>\n",
       "      <td>0</td>\n",
       "      <td>0</td>\n",
       "      <td>19</td>\n",
       "      <td>...</td>\n",
       "      <td>1.0</td>\n",
       "      <td>0.0</td>\n",
       "      <td>1.0</td>\n",
       "      <td>0.0</td>\n",
       "      <td>0.0</td>\n",
       "      <td>0.0</td>\n",
       "      <td>0.0</td>\n",
       "      <td>0.0</td>\n",
       "      <td>0.0</td>\n",
       "      <td></td>\n",
       "    </tr>\n",
       "    <tr>\n",
       "      <th>3</th>\n",
       "      <td>b</td>\n",
       "      <td>1</td>\n",
       "      <td>3</td>\n",
       "      <td>4</td>\n",
       "      <td>6</td>\n",
       "      <td>0</td>\n",
       "      <td>1</td>\n",
       "      <td>0</td>\n",
       "      <td>1</td>\n",
       "      <td>313</td>\n",
       "      <td>...</td>\n",
       "      <td>1.0</td>\n",
       "      <td>0.0</td>\n",
       "      <td>1.0</td>\n",
       "      <td>0.0</td>\n",
       "      <td>0.0</td>\n",
       "      <td>0.0</td>\n",
       "      <td>0.0</td>\n",
       "      <td>0.0</td>\n",
       "      <td>0.0</td>\n",
       "      <td></td>\n",
       "    </tr>\n",
       "    <tr>\n",
       "      <th>4</th>\n",
       "      <td>b</td>\n",
       "      <td>1</td>\n",
       "      <td>3</td>\n",
       "      <td>3</td>\n",
       "      <td>22</td>\n",
       "      <td>0</td>\n",
       "      <td>0</td>\n",
       "      <td>0</td>\n",
       "      <td>0</td>\n",
       "      <td>313</td>\n",
       "      <td>...</td>\n",
       "      <td>1.0</td>\n",
       "      <td>1.0</td>\n",
       "      <td>0.0</td>\n",
       "      <td>0.0</td>\n",
       "      <td>0.0</td>\n",
       "      <td>0.0</td>\n",
       "      <td>0.0</td>\n",
       "      <td>1.0</td>\n",
       "      <td>0.0</td>\n",
       "      <td>Nonprofit</td>\n",
       "    </tr>\n",
       "  </tbody>\n",
       "</table>\n",
       "<p>5 rows × 65 columns</p>\n",
       "</div>"
      ],
      "text/plain": [
       "  id ad  education  ofjobs  yearsexp  honors  volunteer  military  empholes  \\\n",
       "0  b  1          4       2         6       0          0         0         1   \n",
       "1  b  1          3       3         6       0          1         1         0   \n",
       "2  b  1          4       1         6       0          0         0         0   \n",
       "3  b  1          3       4         6       0          1         0         1   \n",
       "4  b  1          3       3        22       0          0         0         0   \n",
       "\n",
       "   occupspecific    ...      compreq  orgreq  manuf  transcom  bankreal trade  \\\n",
       "0             17    ...          1.0     0.0    1.0       0.0       0.0   0.0   \n",
       "1            316    ...          1.0     0.0    1.0       0.0       0.0   0.0   \n",
       "2             19    ...          1.0     0.0    1.0       0.0       0.0   0.0   \n",
       "3            313    ...          1.0     0.0    1.0       0.0       0.0   0.0   \n",
       "4            313    ...          1.0     1.0    0.0       0.0       0.0   0.0   \n",
       "\n",
       "  busservice othservice  missind  ownership  \n",
       "0        0.0        0.0      0.0             \n",
       "1        0.0        0.0      0.0             \n",
       "2        0.0        0.0      0.0             \n",
       "3        0.0        0.0      0.0             \n",
       "4        0.0        1.0      0.0  Nonprofit  \n",
       "\n",
       "[5 rows x 65 columns]"
      ]
     },
     "execution_count": 5,
     "metadata": {},
     "output_type": "execute_result"
    }
   ],
   "source": [
    "data.head()"
   ]
  },
  {
   "cell_type": "code",
   "execution_count": 6,
   "metadata": {
    "collapsed": false
   },
   "outputs": [
    {
     "data": {
      "text/plain": [
       "['id',\n",
       " 'ad',\n",
       " 'education',\n",
       " 'ofjobs',\n",
       " 'yearsexp',\n",
       " 'honors',\n",
       " 'volunteer',\n",
       " 'military',\n",
       " 'empholes',\n",
       " 'occupspecific',\n",
       " 'occupbroad',\n",
       " 'workinschool',\n",
       " 'email',\n",
       " 'computerskills',\n",
       " 'specialskills',\n",
       " 'firstname',\n",
       " 'sex',\n",
       " 'race',\n",
       " 'h',\n",
       " 'l',\n",
       " 'call',\n",
       " 'city',\n",
       " 'kind',\n",
       " 'adid',\n",
       " 'fracblack',\n",
       " 'fracwhite',\n",
       " 'lmedhhinc',\n",
       " 'fracdropout',\n",
       " 'fraccolp',\n",
       " 'linc',\n",
       " 'col',\n",
       " 'expminreq',\n",
       " 'schoolreq',\n",
       " 'eoe',\n",
       " 'parent_sales',\n",
       " 'parent_emp',\n",
       " 'branch_sales',\n",
       " 'branch_emp',\n",
       " 'fed',\n",
       " 'fracblack_empzip',\n",
       " 'fracwhite_empzip',\n",
       " 'lmedhhinc_empzip',\n",
       " 'fracdropout_empzip',\n",
       " 'fraccolp_empzip',\n",
       " 'linc_empzip',\n",
       " 'manager',\n",
       " 'supervisor',\n",
       " 'secretary',\n",
       " 'offsupport',\n",
       " 'salesrep',\n",
       " 'retailsales',\n",
       " 'req',\n",
       " 'expreq',\n",
       " 'comreq',\n",
       " 'educreq',\n",
       " 'compreq',\n",
       " 'orgreq',\n",
       " 'manuf',\n",
       " 'transcom',\n",
       " 'bankreal',\n",
       " 'trade',\n",
       " 'busservice',\n",
       " 'othservice',\n",
       " 'missind',\n",
       " 'ownership']"
      ]
     },
     "execution_count": 6,
     "metadata": {},
     "output_type": "execute_result"
    }
   ],
   "source": [
    "# a list of column names:\n",
    "list(data)"
   ]
  },
  {
   "cell_type": "markdown",
   "metadata": {},
   "source": [
    "\"In practice, we typically send four resumes in response to each ad: two higher-quality and two lower-quality ones\"\n",
    "\n",
    "n each detailed occupational category into\n",
    "two groups: high and low quality. \n",
    "\n",
    " criteria such as labor\n",
    "market experience, career profile, existence of\n",
    "gaps in employment, and skills listed.\n",
    "\n",
    ". Such a\n",
    "classification is admittedly subjective but it is\n",
    "made independently of any race assignment on\n",
    "the resumes "
   ]
  },
  {
   "cell_type": "code",
   "execution_count": 4,
   "metadata": {
    "collapsed": true
   },
   "outputs": [],
   "source": [
    "white_high = data[(data['race'] == 'w') & (data['h'] == 1)]\n",
    "black_high = data[(data['race'] == 'b') & (data['h'] == 1)]\n",
    "white_low = data[(data['race'] == 'w') & (data['l'] == 1)]\n",
    "black_low = data[(data['race'] == 'b') & (data['l'] == 1)]"
   ]
  },
  {
   "cell_type": "code",
   "execution_count": 5,
   "metadata": {
    "collapsed": true
   },
   "outputs": [],
   "source": [
    "callback_white_high = len(white_high.loc[(white_high['call'] == 1), :])\n",
    "callback_white_low = len(white_low.loc[(white_low['call'] == 1), :])"
   ]
  },
  {
   "cell_type": "code",
   "execution_count": 6,
   "metadata": {
    "collapsed": false
   },
   "outputs": [
    {
     "data": {
      "text/plain": [
       "0.09650924024640657"
      ]
     },
     "execution_count": 6,
     "metadata": {},
     "output_type": "execute_result"
    }
   ],
   "source": [
    "callback_white_rate = (callback_white_high + callback_white_low)  / (len(white_high) + len(white_low))\n",
    "callback_white_rate"
   ]
  },
  {
   "cell_type": "code",
   "execution_count": 7,
   "metadata": {
    "collapsed": true
   },
   "outputs": [],
   "source": [
    "callback_black_high = len(black_high.loc[(black_high['call'] == 1), :])\n",
    "callback_black_low = len(black_low.loc[(black_low['call'] == 1), :])"
   ]
  },
  {
   "cell_type": "code",
   "execution_count": 8,
   "metadata": {
    "collapsed": false
   },
   "outputs": [
    {
     "data": {
      "text/plain": [
       "0.06447638603696099"
      ]
     },
     "execution_count": 8,
     "metadata": {},
     "output_type": "execute_result"
    }
   ],
   "source": [
    "callback_black_rate = (callback_black_high + callback_black_low)  / (len(black_high) + len(black_low))\n",
    "callback_black_rate"
   ]
  },
  {
   "cell_type": "markdown",
   "metadata": {},
   "source": [
    "### 1. What test is appropriate for this problem? Does CLT apply? and 2. What are the null and alternate hypotheses? 3.Compute margin of error, confidence interval, and p-value."
   ]
  },
  {
   "cell_type": "markdown",
   "metadata": {},
   "source": [
    "We want to test if a person that has a black name has different probability of getting a call back from a person that has a white name, such that we write our hypothesis testing $H_0: p_{black} - p_{white} = 0$ vs $H_1: p_{black} - p_{white} \\neq 0$. And we know that $E[X_{black}] = E[\\frac{\\sum{X_{black}}}{n_{black}}]  = p_{black}$ or $E[X_{white}] = E[\\frac{\\sum{X_{white}}}{n_{white}}] = p_{white}$. And we know that by CLT, any sample mean with sufficiently large sample size follows a normal distribution. Given that we know our sample size is large (>1000), so we can assume by CLT that $\\hat{p} = \\frac{\\sum{x}}{n} \\sim N(\\mu_{\\bar{x}}, \\sigma_{\\bar{x}}^2)$, and we can only estimate $\\hat{\\mu_{\\bar{x}}} = \\frac{\\sum{x}}{n}$ and $\\hat{\\sigma_{\\bar{x}}} = \\hat{\\sigma_{x}} / \\sqrt{N}$. Given $X$ follows a bernoulli distribution, $\\hat{\\sigma_{x}} = \\sqrt{\\hat{p} (1-\\hat{p})}$.   \n",
    "we can then form a test statistic $ t = \\frac{\\bar{x}_{black} - \\bar{x}_{white}}{\\sqrt{\\frac{s_{black}^2}{n_{black}} + \\frac{s_{white}^2}{n_{white}} }}$ which follows a standard t distribution."
   ]
  },
  {
   "cell_type": "code",
   "execution_count": 10,
   "metadata": {
    "collapsed": false
   },
   "outputs": [
    {
     "data": {
      "text/plain": [
       "0.0077833705866767544"
      ]
     },
     "execution_count": 10,
     "metadata": {},
     "output_type": "execute_result"
    }
   ],
   "source": [
    "import math\n",
    "s_sq_black = callback_black_rate*(1-callback_black_rate)\n",
    "s_sq_white = callback_white_rate*(1-callback_white_rate)\n",
    "sd_dif = math.sqrt(s_sq_black/ (len(black_high) + len(black_low)) +  s_sq_white / (len(white_high) + len(white_low)))\n",
    "t = (callback_black_rate -callback_white_rate) / sd_dif\n",
    "d_f = len(black_high) + len(black_low) - 1\n",
    "sd_dif"
   ]
  },
  {
   "cell_type": "code",
   "execution_count": 92,
   "metadata": {
    "collapsed": false
   },
   "outputs": [
    {
     "data": {
      "text/plain": [
       "0.0152627157139896"
      ]
     },
     "execution_count": 92,
     "metadata": {},
     "output_type": "execute_result"
    }
   ],
   "source": [
    "# margin of error:\n",
    "import scipy.stats as stats\n",
    "const = stats.t.interval(0.95, d_f)[1] * sd_dif\n",
    "const"
   ]
  },
  {
   "cell_type": "code",
   "execution_count": 94,
   "metadata": {
    "collapsed": false
   },
   "outputs": [
    {
     "data": {
      "text/plain": [
       "(-0.042138740826883778, -0.011613309398904578)"
      ]
     },
     "execution_count": 94,
     "metadata": {},
     "output_type": "execute_result"
    }
   ],
   "source": [
    "# the confidence interval is just:\n",
    "(s_sq_black -s_sq_white -const, s_sq_black -s_sq_white + const)"
   ]
  },
  {
   "cell_type": "code",
   "execution_count": 93,
   "metadata": {
    "collapsed": false
   },
   "outputs": [
    {
     "data": {
      "text/plain": [
       "3.991074585679982e-05"
      ]
     },
     "execution_count": 93,
     "metadata": {},
     "output_type": "execute_result"
    }
   ],
   "source": [
    "import scipy.stats as stats\n",
    "p = stats.t.cdf(t, df = d_f) * 2\n",
    "p"
   ]
  },
  {
   "cell_type": "markdown",
   "metadata": {},
   "source": [
    "### 4.Write a story describing the statistical significance in the context or the original problem."
   ]
  },
  {
   "cell_type": "markdown",
   "metadata": {},
   "source": [
    "If we set significance level at 5%, we can reject the null hypothesis and conclude that race is a significant factor that affects whether a person gets callback. By the experimental design, the study has randomly assigned both high quality resumes and low quality resumes to white names and black names, therefore the qualifications of both races in terms name should be pretty even. Thus we are left with only factor of race, and in this study, we have strong reason to believe that a black name is less likely to get call back in comparison to white name."
   ]
  },
  {
   "cell_type": "markdown",
   "metadata": {},
   "source": [
    "### 5.Does your analysis mean that race/name is the most important factor in callback success? Why or why not? If not, how would you amend your analysis?"
   ]
  },
  {
   "cell_type": "markdown",
   "metadata": {},
   "source": [
    "We can check how the quality of resume affects the callback success using similar approach."
   ]
  },
  {
   "cell_type": "code",
   "execution_count": 13,
   "metadata": {
    "collapsed": true
   },
   "outputs": [],
   "source": [
    "callback_high_rate = (callback_white_high + callback_black_high) / (len(white_high) + len(black_high))\n",
    "callback_low_rate = (callback_white_low + callback_black_low) / (len(white_low) + len(black_low))"
   ]
  },
  {
   "cell_type": "code",
   "execution_count": 14,
   "metadata": {
    "collapsed": false
   },
   "outputs": [
    {
     "data": {
      "text/plain": [
       "0.014057435997074763"
      ]
     },
     "execution_count": 14,
     "metadata": {},
     "output_type": "execute_result"
    }
   ],
   "source": [
    "dif_high_low = callback_high_rate - callback_low_rate\n",
    "dif_high_low"
   ]
  },
  {
   "cell_type": "code",
   "execution_count": 17,
   "metadata": {
    "collapsed": false
   },
   "outputs": [
    {
     "data": {
      "text/plain": [
       "0.071326145693657708"
      ]
     },
     "execution_count": 17,
     "metadata": {},
     "output_type": "execute_result"
    }
   ],
   "source": [
    "import math\n",
    "s_sq_high = callback_high_rate*(1-callback_high_rate)\n",
    "s_sq_low = callback_low_rate*(1-callback_low_rate)\n",
    "sd_dif = math.sqrt(s_sq_high/ (len(white_high) + len(black_high)) +  s_sq_low / (len(white_low) + len(black_low)))\n",
    "t = dif_high_low / sd_dif\n",
    "d_f = (len(white_low) + len(black_low)) - 1\n",
    "p = stats.t.cdf(-t, df = d_f) * 2\n",
    "p\n"
   ]
  },
  {
   "cell_type": "markdown",
   "metadata": {},
   "source": [
    "Based on p value, the overall quality of resume is not an important factor if we pool both black and white together."
   ]
  },
  {
   "cell_type": "code",
   "execution_count": 144,
   "metadata": {
    "collapsed": false
   },
   "outputs": [
    {
     "data": {
      "text/plain": [
       "0.02294781808516093"
      ]
     },
     "execution_count": 144,
     "metadata": {},
     "output_type": "execute_result"
    }
   ],
   "source": [
    "callback_white_high_rate = callback_white_high / len(white_high)\n",
    "callback_white_low_rate = callback_white_low / len(white_low)\n",
    "dif_hl_in_white = callback_white_high_rate - callback_white_low_rate\n",
    "import math\n",
    "s_sq_high_white = callback_white_high_rate*(1-callback_white_high_rate)\n",
    "s_sq_low_white = callback_white_low_rate*(1-callback_white_low_rate)\n",
    "sd_dif = math.sqrt(s_sq_high_white/ len(white_high) +  s_sq_low_white / len(white_low))\n",
    "t = dif_hl_in_white / sd_dif\n",
    "d_f = len(white_low) - 1\n",
    "p = stats.t.cdf(-t, df = d_f) * 2\n",
    "dif_hl_in_white"
   ]
  },
  {
   "cell_type": "code",
   "execution_count": 143,
   "metadata": {
    "collapsed": false,
    "scrolled": true
   },
   "outputs": [
    {
     "data": {
      "text/plain": [
       "0.055122895785852957"
      ]
     },
     "execution_count": 143,
     "metadata": {},
     "output_type": "execute_result"
    }
   ],
   "source": [
    "p"
   ]
  },
  {
   "cell_type": "markdown",
   "metadata": {},
   "source": [
    "based on p value, we can conclude that a higher quality resume in white race (name) will have roughly 2.29% more chance than a lower quality resume, but this value is considered insignificant from 0."
   ]
  },
  {
   "cell_type": "code",
   "execution_count": 145,
   "metadata": {
    "collapsed": false
   },
   "outputs": [
    {
     "data": {
      "text/plain": [
       "0.005167053908988611"
      ]
     },
     "execution_count": 145,
     "metadata": {},
     "output_type": "execute_result"
    }
   ],
   "source": [
    "callback_black_high_rate = callback_black_high / len(black_high)\n",
    "callback_black_low_rate = callback_black_low / len(black_low)\n",
    "dif_hl_in_black = callback_black_high_rate - callback_black_low_rate\n",
    "import math\n",
    "s_sq_high_black = callback_black_high_rate*(1-callback_black_high_rate)\n",
    "s_sq_low_black = callback_black_low_rate*(1-callback_black_low_rate)\n",
    "sd_dif = math.sqrt(s_sq_high_black/ len(black_high) +  s_sq_low_black / len(black_low))\n",
    "t = dif_hl_in_black / sd_dif\n",
    "d_f = len(black_low) - 1\n",
    "p = stats.t.cdf(-t, df = d_f) * 2\n",
    "dif_hl_in_black"
   ]
  },
  {
   "cell_type": "code",
   "execution_count": 146,
   "metadata": {
    "collapsed": false
   },
   "outputs": [
    {
     "data": {
      "text/plain": [
       "0.60372207527297927"
      ]
     },
     "execution_count": 146,
     "metadata": {},
     "output_type": "execute_result"
    }
   ],
   "source": [
    "p"
   ]
  },
  {
   "cell_type": "markdown",
   "metadata": {},
   "source": [
    "based on p value, we can conclude that a highler quality resume in black race(name) will have 0.5% more chance than a lower quality resume, but this value is considered insignificant from 0.\n",
    "\n",
    "We could also potential fit regression model to find out what factors such as educations and experience are considered more important. But so far if we only consider whether quality of resumes and race, race seems to be a dominant factor. "
   ]
  },
  {
   "cell_type": "code",
   "execution_count": null,
   "metadata": {
    "collapsed": true
   },
   "outputs": [],
   "source": []
  }
 ],
 "metadata": {
  "kernelspec": {
   "display_name": "Python 3",
   "language": "python",
   "name": "python3"
  },
  "language_info": {
   "codemirror_mode": {
    "name": "ipython",
    "version": 3
   },
   "file_extension": ".py",
   "mimetype": "text/x-python",
   "name": "python",
   "nbconvert_exporter": "python",
   "pygments_lexer": "ipython3",
   "version": "3.6.0"
  }
 },
 "nbformat": 4,
 "nbformat_minor": 1
}
